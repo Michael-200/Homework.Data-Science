{
 "cells": [
  {
   "cell_type": "code",
   "execution_count": 1,
   "id": "86bd67e4",
   "metadata": {},
   "outputs": [],
   "source": [
    "import os"
   ]
  },
  {
   "cell_type": "code",
   "execution_count": 2,
   "id": "060f3da0",
   "metadata": {},
   "outputs": [],
   "source": [
    "os.chdir(\"C:/Users/Michael/Documents/DataSet\")"
   ]
  },
  {
   "cell_type": "code",
   "execution_count": 3,
   "id": "3a7b44c6",
   "metadata": {},
   "outputs": [],
   "source": [
    "import pandas as pd\n",
    "import numpy as np"
   ]
  },
  {
   "cell_type": "code",
   "execution_count": 4,
   "id": "721d949d",
   "metadata": {},
   "outputs": [],
   "source": [
    "#Чтение данных из таблицы\n",
    "House = pd.read_csv('HousePrice/HousePrices_HalfMil.csv', delimiter=',')"
   ]
  },
  {
   "cell_type": "code",
   "execution_count": 5,
   "id": "5b07334b",
   "metadata": {},
   "outputs": [
    {
     "data": {
      "text/html": [
       "<div>\n",
       "<style scoped>\n",
       "    .dataframe tbody tr th:only-of-type {\n",
       "        vertical-align: middle;\n",
       "    }\n",
       "\n",
       "    .dataframe tbody tr th {\n",
       "        vertical-align: top;\n",
       "    }\n",
       "\n",
       "    .dataframe thead th {\n",
       "        text-align: right;\n",
       "    }\n",
       "</style>\n",
       "<table border=\"1\" class=\"dataframe\">\n",
       "  <thead>\n",
       "    <tr style=\"text-align: right;\">\n",
       "      <th></th>\n",
       "      <th>Area</th>\n",
       "      <th>Garage</th>\n",
       "      <th>FirePlace</th>\n",
       "      <th>Baths</th>\n",
       "      <th>White Marble</th>\n",
       "      <th>Black Marble</th>\n",
       "      <th>Indian Marble</th>\n",
       "      <th>Floors</th>\n",
       "      <th>City</th>\n",
       "      <th>Solar</th>\n",
       "      <th>Electric</th>\n",
       "      <th>Fiber</th>\n",
       "      <th>Glass Doors</th>\n",
       "      <th>Swiming Pool</th>\n",
       "      <th>Garden</th>\n",
       "      <th>Prices</th>\n",
       "    </tr>\n",
       "  </thead>\n",
       "  <tbody>\n",
       "    <tr>\n",
       "      <th>0</th>\n",
       "      <td>164</td>\n",
       "      <td>2</td>\n",
       "      <td>0</td>\n",
       "      <td>2</td>\n",
       "      <td>0</td>\n",
       "      <td>1</td>\n",
       "      <td>0</td>\n",
       "      <td>0</td>\n",
       "      <td>3</td>\n",
       "      <td>1</td>\n",
       "      <td>1</td>\n",
       "      <td>1</td>\n",
       "      <td>1</td>\n",
       "      <td>0</td>\n",
       "      <td>0</td>\n",
       "      <td>43800</td>\n",
       "    </tr>\n",
       "    <tr>\n",
       "      <th>1</th>\n",
       "      <td>84</td>\n",
       "      <td>2</td>\n",
       "      <td>0</td>\n",
       "      <td>4</td>\n",
       "      <td>0</td>\n",
       "      <td>0</td>\n",
       "      <td>1</td>\n",
       "      <td>1</td>\n",
       "      <td>2</td>\n",
       "      <td>0</td>\n",
       "      <td>0</td>\n",
       "      <td>0</td>\n",
       "      <td>1</td>\n",
       "      <td>1</td>\n",
       "      <td>1</td>\n",
       "      <td>37550</td>\n",
       "    </tr>\n",
       "    <tr>\n",
       "      <th>2</th>\n",
       "      <td>190</td>\n",
       "      <td>2</td>\n",
       "      <td>4</td>\n",
       "      <td>4</td>\n",
       "      <td>1</td>\n",
       "      <td>0</td>\n",
       "      <td>0</td>\n",
       "      <td>0</td>\n",
       "      <td>2</td>\n",
       "      <td>0</td>\n",
       "      <td>0</td>\n",
       "      <td>1</td>\n",
       "      <td>0</td>\n",
       "      <td>0</td>\n",
       "      <td>0</td>\n",
       "      <td>49500</td>\n",
       "    </tr>\n",
       "    <tr>\n",
       "      <th>3</th>\n",
       "      <td>75</td>\n",
       "      <td>2</td>\n",
       "      <td>4</td>\n",
       "      <td>4</td>\n",
       "      <td>0</td>\n",
       "      <td>0</td>\n",
       "      <td>1</td>\n",
       "      <td>1</td>\n",
       "      <td>1</td>\n",
       "      <td>1</td>\n",
       "      <td>1</td>\n",
       "      <td>1</td>\n",
       "      <td>1</td>\n",
       "      <td>1</td>\n",
       "      <td>1</td>\n",
       "      <td>50075</td>\n",
       "    </tr>\n",
       "    <tr>\n",
       "      <th>4</th>\n",
       "      <td>148</td>\n",
       "      <td>1</td>\n",
       "      <td>4</td>\n",
       "      <td>2</td>\n",
       "      <td>1</td>\n",
       "      <td>0</td>\n",
       "      <td>0</td>\n",
       "      <td>1</td>\n",
       "      <td>2</td>\n",
       "      <td>1</td>\n",
       "      <td>0</td>\n",
       "      <td>0</td>\n",
       "      <td>1</td>\n",
       "      <td>1</td>\n",
       "      <td>1</td>\n",
       "      <td>52400</td>\n",
       "    </tr>\n",
       "  </tbody>\n",
       "</table>\n",
       "</div>"
      ],
      "text/plain": [
       "   Area  Garage  FirePlace  Baths  White Marble  Black Marble  Indian Marble  \\\n",
       "0   164       2          0      2             0             1              0   \n",
       "1    84       2          0      4             0             0              1   \n",
       "2   190       2          4      4             1             0              0   \n",
       "3    75       2          4      4             0             0              1   \n",
       "4   148       1          4      2             1             0              0   \n",
       "\n",
       "   Floors  City  Solar  Electric  Fiber  Glass Doors  Swiming Pool  Garden  \\\n",
       "0       0     3      1         1      1            1             0       0   \n",
       "1       1     2      0         0      0            1             1       1   \n",
       "2       0     2      0         0      1            0             0       0   \n",
       "3       1     1      1         1      1            1             1       1   \n",
       "4       1     2      1         0      0            1             1       1   \n",
       "\n",
       "   Prices  \n",
       "0   43800  \n",
       "1   37550  \n",
       "2   49500  \n",
       "3   50075  \n",
       "4   52400  "
      ]
     },
     "execution_count": 5,
     "metadata": {},
     "output_type": "execute_result"
    }
   ],
   "source": [
    "#Просмотр первых 5 строчек таблицы\n",
    "House.head()"
   ]
  },
  {
   "cell_type": "code",
   "execution_count": 6,
   "id": "9e8b06c0",
   "metadata": {},
   "outputs": [
    {
     "data": {
      "text/html": [
       "<div>\n",
       "<style scoped>\n",
       "    .dataframe tbody tr th:only-of-type {\n",
       "        vertical-align: middle;\n",
       "    }\n",
       "\n",
       "    .dataframe tbody tr th {\n",
       "        vertical-align: top;\n",
       "    }\n",
       "\n",
       "    .dataframe thead th {\n",
       "        text-align: right;\n",
       "    }\n",
       "</style>\n",
       "<table border=\"1\" class=\"dataframe\">\n",
       "  <thead>\n",
       "    <tr style=\"text-align: right;\">\n",
       "      <th></th>\n",
       "      <th>Area</th>\n",
       "      <th>Garage</th>\n",
       "      <th>FirePlace</th>\n",
       "      <th>Baths</th>\n",
       "      <th>White Marble</th>\n",
       "      <th>Black Marble</th>\n",
       "      <th>Indian Marble</th>\n",
       "      <th>Floors</th>\n",
       "      <th>City</th>\n",
       "      <th>Solar</th>\n",
       "      <th>Electric</th>\n",
       "      <th>Fiber</th>\n",
       "      <th>Glass Doors</th>\n",
       "      <th>Swiming Pool</th>\n",
       "      <th>Garden</th>\n",
       "      <th>Prices</th>\n",
       "    </tr>\n",
       "  </thead>\n",
       "  <tbody>\n",
       "    <tr>\n",
       "      <th>count</th>\n",
       "      <td>500000.000000</td>\n",
       "      <td>500000.000000</td>\n",
       "      <td>500000.000000</td>\n",
       "      <td>500000.000000</td>\n",
       "      <td>500000.000000</td>\n",
       "      <td>500000.000000</td>\n",
       "      <td>500000.000000</td>\n",
       "      <td>500000.000000</td>\n",
       "      <td>500000.000000</td>\n",
       "      <td>500000.000000</td>\n",
       "      <td>500000.00000</td>\n",
       "      <td>500000.000000</td>\n",
       "      <td>500000.00000</td>\n",
       "      <td>500000.000000</td>\n",
       "      <td>500000.000000</td>\n",
       "      <td>500000.000000</td>\n",
       "    </tr>\n",
       "    <tr>\n",
       "      <th>mean</th>\n",
       "      <td>124.929554</td>\n",
       "      <td>2.001290</td>\n",
       "      <td>2.003398</td>\n",
       "      <td>2.998074</td>\n",
       "      <td>0.332992</td>\n",
       "      <td>0.332690</td>\n",
       "      <td>0.334318</td>\n",
       "      <td>0.499386</td>\n",
       "      <td>2.000940</td>\n",
       "      <td>0.498694</td>\n",
       "      <td>0.50065</td>\n",
       "      <td>0.500468</td>\n",
       "      <td>0.49987</td>\n",
       "      <td>0.500436</td>\n",
       "      <td>0.501646</td>\n",
       "      <td>42050.139350</td>\n",
       "    </tr>\n",
       "    <tr>\n",
       "      <th>std</th>\n",
       "      <td>71.795363</td>\n",
       "      <td>0.817005</td>\n",
       "      <td>1.414021</td>\n",
       "      <td>1.414227</td>\n",
       "      <td>0.471284</td>\n",
       "      <td>0.471177</td>\n",
       "      <td>0.471752</td>\n",
       "      <td>0.500000</td>\n",
       "      <td>0.816209</td>\n",
       "      <td>0.499999</td>\n",
       "      <td>0.50000</td>\n",
       "      <td>0.500000</td>\n",
       "      <td>0.50000</td>\n",
       "      <td>0.500000</td>\n",
       "      <td>0.499998</td>\n",
       "      <td>12110.237201</td>\n",
       "    </tr>\n",
       "    <tr>\n",
       "      <th>min</th>\n",
       "      <td>1.000000</td>\n",
       "      <td>1.000000</td>\n",
       "      <td>0.000000</td>\n",
       "      <td>1.000000</td>\n",
       "      <td>0.000000</td>\n",
       "      <td>0.000000</td>\n",
       "      <td>0.000000</td>\n",
       "      <td>0.000000</td>\n",
       "      <td>1.000000</td>\n",
       "      <td>0.000000</td>\n",
       "      <td>0.00000</td>\n",
       "      <td>0.000000</td>\n",
       "      <td>0.00000</td>\n",
       "      <td>0.000000</td>\n",
       "      <td>0.000000</td>\n",
       "      <td>7725.000000</td>\n",
       "    </tr>\n",
       "    <tr>\n",
       "      <th>25%</th>\n",
       "      <td>63.000000</td>\n",
       "      <td>1.000000</td>\n",
       "      <td>1.000000</td>\n",
       "      <td>2.000000</td>\n",
       "      <td>0.000000</td>\n",
       "      <td>0.000000</td>\n",
       "      <td>0.000000</td>\n",
       "      <td>0.000000</td>\n",
       "      <td>1.000000</td>\n",
       "      <td>0.000000</td>\n",
       "      <td>0.00000</td>\n",
       "      <td>0.000000</td>\n",
       "      <td>0.00000</td>\n",
       "      <td>0.000000</td>\n",
       "      <td>0.000000</td>\n",
       "      <td>33500.000000</td>\n",
       "    </tr>\n",
       "    <tr>\n",
       "      <th>50%</th>\n",
       "      <td>125.000000</td>\n",
       "      <td>2.000000</td>\n",
       "      <td>2.000000</td>\n",
       "      <td>3.000000</td>\n",
       "      <td>0.000000</td>\n",
       "      <td>0.000000</td>\n",
       "      <td>0.000000</td>\n",
       "      <td>0.000000</td>\n",
       "      <td>2.000000</td>\n",
       "      <td>0.000000</td>\n",
       "      <td>1.00000</td>\n",
       "      <td>1.000000</td>\n",
       "      <td>0.00000</td>\n",
       "      <td>1.000000</td>\n",
       "      <td>1.000000</td>\n",
       "      <td>41850.000000</td>\n",
       "    </tr>\n",
       "    <tr>\n",
       "      <th>75%</th>\n",
       "      <td>187.000000</td>\n",
       "      <td>3.000000</td>\n",
       "      <td>3.000000</td>\n",
       "      <td>4.000000</td>\n",
       "      <td>1.000000</td>\n",
       "      <td>1.000000</td>\n",
       "      <td>1.000000</td>\n",
       "      <td>1.000000</td>\n",
       "      <td>3.000000</td>\n",
       "      <td>1.000000</td>\n",
       "      <td>1.00000</td>\n",
       "      <td>1.000000</td>\n",
       "      <td>1.00000</td>\n",
       "      <td>1.000000</td>\n",
       "      <td>1.000000</td>\n",
       "      <td>50750.000000</td>\n",
       "    </tr>\n",
       "    <tr>\n",
       "      <th>max</th>\n",
       "      <td>249.000000</td>\n",
       "      <td>3.000000</td>\n",
       "      <td>4.000000</td>\n",
       "      <td>5.000000</td>\n",
       "      <td>1.000000</td>\n",
       "      <td>1.000000</td>\n",
       "      <td>1.000000</td>\n",
       "      <td>1.000000</td>\n",
       "      <td>3.000000</td>\n",
       "      <td>1.000000</td>\n",
       "      <td>1.00000</td>\n",
       "      <td>1.000000</td>\n",
       "      <td>1.00000</td>\n",
       "      <td>1.000000</td>\n",
       "      <td>1.000000</td>\n",
       "      <td>77975.000000</td>\n",
       "    </tr>\n",
       "  </tbody>\n",
       "</table>\n",
       "</div>"
      ],
      "text/plain": [
       "                Area         Garage      FirePlace          Baths  \\\n",
       "count  500000.000000  500000.000000  500000.000000  500000.000000   \n",
       "mean      124.929554       2.001290       2.003398       2.998074   \n",
       "std        71.795363       0.817005       1.414021       1.414227   \n",
       "min         1.000000       1.000000       0.000000       1.000000   \n",
       "25%        63.000000       1.000000       1.000000       2.000000   \n",
       "50%       125.000000       2.000000       2.000000       3.000000   \n",
       "75%       187.000000       3.000000       3.000000       4.000000   \n",
       "max       249.000000       3.000000       4.000000       5.000000   \n",
       "\n",
       "        White Marble   Black Marble  Indian Marble         Floors  \\\n",
       "count  500000.000000  500000.000000  500000.000000  500000.000000   \n",
       "mean        0.332992       0.332690       0.334318       0.499386   \n",
       "std         0.471284       0.471177       0.471752       0.500000   \n",
       "min         0.000000       0.000000       0.000000       0.000000   \n",
       "25%         0.000000       0.000000       0.000000       0.000000   \n",
       "50%         0.000000       0.000000       0.000000       0.000000   \n",
       "75%         1.000000       1.000000       1.000000       1.000000   \n",
       "max         1.000000       1.000000       1.000000       1.000000   \n",
       "\n",
       "                City          Solar      Electric          Fiber  \\\n",
       "count  500000.000000  500000.000000  500000.00000  500000.000000   \n",
       "mean        2.000940       0.498694       0.50065       0.500468   \n",
       "std         0.816209       0.499999       0.50000       0.500000   \n",
       "min         1.000000       0.000000       0.00000       0.000000   \n",
       "25%         1.000000       0.000000       0.00000       0.000000   \n",
       "50%         2.000000       0.000000       1.00000       1.000000   \n",
       "75%         3.000000       1.000000       1.00000       1.000000   \n",
       "max         3.000000       1.000000       1.00000       1.000000   \n",
       "\n",
       "        Glass Doors   Swiming Pool         Garden         Prices  \n",
       "count  500000.00000  500000.000000  500000.000000  500000.000000  \n",
       "mean        0.49987       0.500436       0.501646   42050.139350  \n",
       "std         0.50000       0.500000       0.499998   12110.237201  \n",
       "min         0.00000       0.000000       0.000000    7725.000000  \n",
       "25%         0.00000       0.000000       0.000000   33500.000000  \n",
       "50%         0.00000       1.000000       1.000000   41850.000000  \n",
       "75%         1.00000       1.000000       1.000000   50750.000000  \n",
       "max         1.00000       1.000000       1.000000   77975.000000  "
      ]
     },
     "execution_count": 6,
     "metadata": {},
     "output_type": "execute_result"
    }
   ],
   "source": [
    "#Описательная статистика\n",
    "House.describe(include='all')"
   ]
  },
  {
   "cell_type": "code",
   "execution_count": 7,
   "id": "e8693e44",
   "metadata": {},
   "outputs": [
    {
     "data": {
      "text/plain": [
       "Area             int64\n",
       "Garage           int64\n",
       "FirePlace        int64\n",
       "Baths            int64\n",
       "White Marble     int64\n",
       "Black Marble     int64\n",
       "Indian Marble    int64\n",
       "Floors           int64\n",
       "City             int64\n",
       "Solar            int64\n",
       "Electric         int64\n",
       "Fiber            int64\n",
       "Glass Doors      int64\n",
       "Swiming Pool     int64\n",
       "Garden           int64\n",
       "Prices           int64\n",
       "dtype: object"
      ]
     },
     "execution_count": 7,
     "metadata": {},
     "output_type": "execute_result"
    }
   ],
   "source": [
    "House.dtypes"
   ]
  },
  {
   "cell_type": "code",
   "execution_count": 8,
   "id": "1eeaa412",
   "metadata": {},
   "outputs": [],
   "source": [
    "import statistics"
   ]
  },
  {
   "cell_type": "code",
   "execution_count": 9,
   "id": "0c413295",
   "metadata": {},
   "outputs": [
    {
     "data": {
      "text/plain": [
       "42050.13935"
      ]
     },
     "execution_count": 9,
     "metadata": {},
     "output_type": "execute_result"
    }
   ],
   "source": [
    "#Математическое ожидание\n",
    "statistics.mean(House['Prices'])"
   ]
  },
  {
   "cell_type": "code",
   "execution_count": 10,
   "id": "4decefda",
   "metadata": {},
   "outputs": [
    {
     "data": {
      "text/plain": [
       "41850.0"
      ]
     },
     "execution_count": 10,
     "metadata": {},
     "output_type": "execute_result"
    }
   ],
   "source": [
    "#Медиана\n",
    "statistics.median(House['Prices'])"
   ]
  },
  {
   "cell_type": "code",
   "execution_count": 11,
   "id": "99871cfb",
   "metadata": {},
   "outputs": [
    {
     "data": {
      "text/plain": [
       "39550"
      ]
     },
     "execution_count": 11,
     "metadata": {},
     "output_type": "execute_result"
    }
   ],
   "source": [
    "#Мода\n",
    "statistics.mode(House['Prices'])"
   ]
  },
  {
   "cell_type": "code",
   "execution_count": 12,
   "id": "c6c7c417",
   "metadata": {},
   "outputs": [
    {
     "data": {
      "text/plain": [
       "7725"
      ]
     },
     "execution_count": 12,
     "metadata": {},
     "output_type": "execute_result"
    }
   ],
   "source": [
    "#Минимум\n",
    "min(House['Prices'])"
   ]
  },
  {
   "cell_type": "code",
   "execution_count": 13,
   "id": "56d35267",
   "metadata": {},
   "outputs": [
    {
     "data": {
      "text/plain": [
       "77975"
      ]
     },
     "execution_count": 13,
     "metadata": {},
     "output_type": "execute_result"
    }
   ],
   "source": [
    "#Максимум\n",
    "max(House['Prices'])"
   ]
  },
  {
   "cell_type": "code",
   "execution_count": 14,
   "id": "9aad2816",
   "metadata": {},
   "outputs": [
    {
     "data": {
      "text/plain": [
       "0"
      ]
     },
     "execution_count": 14,
     "metadata": {},
     "output_type": "execute_result"
    }
   ],
   "source": [
    "#Выбросы\n",
    "House['Prices'].isnull().sum()"
   ]
  },
  {
   "cell_type": "code",
   "execution_count": 15,
   "id": "c5a8a1ed",
   "metadata": {},
   "outputs": [
    {
     "data": {
      "text/plain": [
       "12110.225090366057"
      ]
     },
     "execution_count": 15,
     "metadata": {},
     "output_type": "execute_result"
    }
   ],
   "source": [
    "#Стандартное отклонение\n",
    "statistics.pstdev(House['Prices'])"
   ]
  },
  {
   "cell_type": "code",
   "execution_count": 16,
   "id": "88085034",
   "metadata": {},
   "outputs": [
    {
     "data": {
      "text/plain": [
       "146657551.73933157"
      ]
     },
     "execution_count": 16,
     "metadata": {},
     "output_type": "execute_result"
    }
   ],
   "source": [
    "#Дисперсия\n",
    "statistics.pvariance(House['Prices'])"
   ]
  },
  {
   "cell_type": "code",
   "execution_count": 17,
   "id": "bf9fbad3",
   "metadata": {},
   "outputs": [
    {
     "data": {
      "text/plain": [
       "70250"
      ]
     },
     "execution_count": 17,
     "metadata": {},
     "output_type": "execute_result"
    }
   ],
   "source": [
    "#Размах\n",
    "max(House['Prices']) - min(House['Prices'])"
   ]
  },
  {
   "cell_type": "code",
   "execution_count": 18,
   "id": "542ab814",
   "metadata": {},
   "outputs": [],
   "source": [
    "import matplotlib\n",
    "import matplotlib.pyplot as plt"
   ]
  },
  {
   "cell_type": "code",
   "execution_count": 19,
   "id": "81aec14e",
   "metadata": {
    "scrolled": false
   },
   "outputs": [
    {
     "data": {
      "text/plain": [
       "<matplotlib.collections.PathCollection at 0x2acb6a675e0>"
      ]
     },
     "execution_count": 19,
     "metadata": {},
     "output_type": "execute_result"
    },
    {
     "data": {
      "image/png": "[encoded data removed]",
      "text/plain": [
       "<Figure size 432x288 with 1 Axes>"
      ]
     },
     "metadata": {
      "needs_background": "light"
     },
     "output_type": "display_data"
    }
   ],
   "source": [
    "#Коррелляция\n",
    "plt.scatter(House['Area'], House['Prices'], marker=\".\", s = 1)"
   ]
  },
  {
   "cell_type": "code",
   "execution_count": 20,
   "id": "192b8062",
   "metadata": {
    "scrolled": true
   },
   "outputs": [
    {
     "data": {
      "image/png": "[encoded data removed]",
      "text/plain": [
       "<Figure size 432x288 with 1 Axes>"
      ]
     },
     "metadata": {
      "needs_background": "light"
     },
     "output_type": "display_data"
    }
   ],
   "source": [
    "#Гистограмма\n",
    "House['Prices'].hist();"
   ]
  },
  {
   "cell_type": "code",
   "execution_count": 21,
   "id": "e1b1bbc5",
   "metadata": {},
   "outputs": [],
   "source": [
    "matplotlib.style.use('ggplot')"
   ]
  },
  {
   "cell_type": "code",
   "execution_count": 22,
   "id": "623ae184",
   "metadata": {},
   "outputs": [
    {
     "data": {
      "image/png": "[encoded data removed]",
      "text/plain": [
       "<Figure size 432x288 with 1 Axes>"
      ]
     },
     "metadata": {},
     "output_type": "display_data"
    }
   ],
   "source": [
    "#Увеличение колличества столбиков\n",
    "House['Prices'].hist(bins=60);"
   ]
  },
  {
   "cell_type": "code",
   "execution_count": 23,
   "id": "10705b72",
   "metadata": {
    "scrolled": true
   },
   "outputs": [
    {
     "data": {
      "text/plain": [
       "{'whiskers': [<matplotlib.lines.Line2D at 0x2acb738af40>,\n",
       "  <matplotlib.lines.Line2D at 0x2acb7397310>,\n",
       "  <matplotlib.lines.Line2D at 0x2acb73a3790>,\n",
       "  <matplotlib.lines.Line2D at 0x2acb73a3af0>,\n",
       "  <matplotlib.lines.Line2D at 0x2acb73aef70>,\n",
       "  <matplotlib.lines.Line2D at 0x2acb73ba310>],\n",
       " 'caps': [<matplotlib.lines.Line2D at 0x2acb7397670>,\n",
       "  <matplotlib.lines.Line2D at 0x2acb73979d0>,\n",
       "  <matplotlib.lines.Line2D at 0x2acb73a3e50>,\n",
       "  <matplotlib.lines.Line2D at 0x2acb73ae1f0>,\n",
       "  <matplotlib.lines.Line2D at 0x2acb73ba670>,\n",
       "  <matplotlib.lines.Line2D at 0x2acb73ba9d0>],\n",
       " 'boxes': [<matplotlib.lines.Line2D at 0x2acb738abe0>,\n",
       "  <matplotlib.lines.Line2D at 0x2acb73a3430>,\n",
       "  <matplotlib.lines.Line2D at 0x2acb73aec10>],\n",
       " 'medians': [<matplotlib.lines.Line2D at 0x2acb7397d30>,\n",
       "  <matplotlib.lines.Line2D at 0x2acb73ae550>,\n",
       "  <matplotlib.lines.Line2D at 0x2acb73bad30>],\n",
       " 'fliers': [<matplotlib.lines.Line2D at 0x2acb73a30d0>,\n",
       "  <matplotlib.lines.Line2D at 0x2acb73ae8b0>,\n",
       "  <matplotlib.lines.Line2D at 0x2acb73c60d0>],\n",
       " 'means': []}"
      ]
     },
     "execution_count": 23,
     "metadata": {},
     "output_type": "execute_result"
    },
    {
     "data": {
      "image/png": "[encoded data removed]",
      "text/plain": [
       "<Figure size 432x288 with 1 Axes>"
      ]
     },
     "metadata": {},
     "output_type": "display_data"
    }
   ],
   "source": [
    "#Ящики с усами\n",
    "plt.boxplot([House['Garage'], House['FirePlace'], House['Swiming Pool']])"
   ]
  },
  {
   "cell_type": "code",
   "execution_count": 24,
   "id": "03300306",
   "metadata": {},
   "outputs": [],
   "source": [
    "Pizza = pd.read_csv('Pizza/pizza_v2.csv', delimiter=',')"
   ]
  },
  {
   "cell_type": "code",
   "execution_count": 25,
   "id": "03b57629",
   "metadata": {
    "scrolled": false
   },
   "outputs": [
    {
     "data": {
      "text/plain": [
       "company            object\n",
       "price_rupiah       object\n",
       "diameter           object\n",
       "topping            object\n",
       "variant            object\n",
       "size               object\n",
       "extra_sauce        object\n",
       "extra_cheese       object\n",
       "extra_mushrooms    object\n",
       "dtype: object"
      ]
     },
     "execution_count": 25,
     "metadata": {},
     "output_type": "execute_result"
    }
   ],
   "source": [
    "Pizza.dtypes"
   ]
  },
  {
   "cell_type": "code",
   "execution_count": 26,
   "id": "f3865f22",
   "metadata": {
    "scrolled": true
   },
   "outputs": [
    {
     "data": {
      "image/png": "[encoded data removed]",
      "text/plain": [
       "<Figure size 432x288 with 1 Axes>"
      ]
     },
     "metadata": {},
     "output_type": "display_data"
    }
   ],
   "source": [
    "Pizza['price_rupiah'].hist(bins=60);"
   ]
  },
  {
   "cell_type": "code",
   "execution_count": 27,
   "id": "89bbc352",
   "metadata": {},
   "outputs": [],
   "source": [
    "from pylab import plot"
   ]
  },
  {
   "cell_type": "code",
   "execution_count": 28,
   "id": "b919240f",
   "metadata": {},
   "outputs": [
    {
     "data": {
      "text/plain": [
       "[<matplotlib.lines.Line2D at 0x2acb72c2a60>]"
      ]
     },
     "execution_count": 28,
     "metadata": {},
     "output_type": "execute_result"
    },
    {
     "data": {
      "image/png": "[encoded data removed]",
      "text/plain": [
       "<Figure size 432x288 with 1 Axes>"
      ]
     },
     "metadata": {},
     "output_type": "display_data"
    }
   ],
   "source": [
    "plot(Pizza['price_rupiah'], 'r')"
   ]
  }
 ],
 "metadata": {
  "kernelspec": {
   "display_name": "Python 3",
   "language": "python",
   "name": "python3"
  },
  "language_info": {
   "codemirror_mode": {
    "name": "ipython",
    "version": 3
   },
   "file_extension": ".py",
   "mimetype": "text/x-python",
   "name": "python",
   "nbconvert_exporter": "python",
   "pygments_lexer": "ipython3",
   "version": "3.8.8"
  }
 },
 "nbformat": 4,
 "nbformat_minor": 5
}
