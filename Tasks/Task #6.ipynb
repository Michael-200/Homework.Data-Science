{
 "cells": [
  {
   "cell_type": "code",
   "execution_count": 7,
   "id": "0d6ff21c",
   "metadata": {},
   "outputs": [],
   "source": [
    "import os\n",
    "import numpy as np\n",
    "import pandas as pd\n",
    "import statsmodels.api as sm"
   ]
  },
  {
   "cell_type": "code",
   "execution_count": 8,
   "id": "2519149d",
   "metadata": {},
   "outputs": [],
   "source": [
    "# Устанавливаем значение рабочей дирректории.\n",
    "os.chdir(\"C:/Users/Michael/Documents/DataSet/Koronastat\")"
   ]
  },
  {
   "cell_type": "code",
   "execution_count": 9,
   "id": "0f24e826",
   "metadata": {},
   "outputs": [],
   "source": [
    "# Чтение данных из таблицы.\n",
    "Koronastat = pd.read_csv(\"Таблица_2021-10-29_21-42.csv\", delimiter=',')"
   ]
  },
  {
   "cell_type": "code",
   "execution_count": 10,
   "id": "b469d7fa",
   "metadata": {},
   "outputs": [
    {
     "data": {
      "text/html": [
       "<div>\n",
       "<style scoped>\n",
       "    .dataframe tbody tr th:only-of-type {\n",
       "        vertical-align: middle;\n",
       "    }\n",
       "\n",
       "    .dataframe tbody tr th {\n",
       "        vertical-align: top;\n",
       "    }\n",
       "\n",
       "    .dataframe thead th {\n",
       "        text-align: right;\n",
       "    }\n",
       "</style>\n",
       "<table border=\"1\" class=\"dataframe\">\n",
       "  <thead>\n",
       "    <tr style=\"text-align: right;\">\n",
       "      <th></th>\n",
       "      <th>Дата</th>\n",
       "      <th>Регион</th>\n",
       "      <th>Заражений</th>\n",
       "      <th>Выздоровлений</th>\n",
       "      <th>Смертей</th>\n",
       "      <th>Смертей за день</th>\n",
       "      <th>Заражений за день</th>\n",
       "      <th>Выздоровлений за день</th>\n",
       "    </tr>\n",
       "  </thead>\n",
       "  <tbody>\n",
       "    <tr>\n",
       "      <th>0</th>\n",
       "      <td>20.09.2020</td>\n",
       "      <td>Томская обл.</td>\n",
       "      <td>6775</td>\n",
       "      <td>5554</td>\n",
       "      <td>79</td>\n",
       "      <td>1</td>\n",
       "      <td>62</td>\n",
       "      <td>92</td>\n",
       "    </tr>\n",
       "    <tr>\n",
       "      <th>1</th>\n",
       "      <td>26.09.2020</td>\n",
       "      <td>Костромская обл.</td>\n",
       "      <td>4553</td>\n",
       "      <td>3329</td>\n",
       "      <td>67</td>\n",
       "      <td>5</td>\n",
       "      <td>54</td>\n",
       "      <td>44</td>\n",
       "    </tr>\n",
       "    <tr>\n",
       "      <th>2</th>\n",
       "      <td>02.09.2021</td>\n",
       "      <td>Ямало-Ненецкий АО</td>\n",
       "      <td>47772</td>\n",
       "      <td>45810</td>\n",
       "      <td>625</td>\n",
       "      <td>4</td>\n",
       "      <td>102</td>\n",
       "      <td>121</td>\n",
       "    </tr>\n",
       "    <tr>\n",
       "      <th>3</th>\n",
       "      <td>15.12.2020</td>\n",
       "      <td>Сахалинская обл.</td>\n",
       "      <td>13406</td>\n",
       "      <td>10292</td>\n",
       "      <td>11</td>\n",
       "      <td>0</td>\n",
       "      <td>142</td>\n",
       "      <td>366</td>\n",
       "    </tr>\n",
       "    <tr>\n",
       "      <th>4</th>\n",
       "      <td>21.09.2020</td>\n",
       "      <td>Волгоградская обл.</td>\n",
       "      <td>14158</td>\n",
       "      <td>12376</td>\n",
       "      <td>131</td>\n",
       "      <td>0</td>\n",
       "      <td>95</td>\n",
       "      <td>13</td>\n",
       "    </tr>\n",
       "  </tbody>\n",
       "</table>\n",
       "</div>"
      ],
      "text/plain": [
       "         Дата              Регион  Заражений  Выздоровлений  Смертей  \\\n",
       "0  20.09.2020        Томская обл.       6775           5554       79   \n",
       "1  26.09.2020    Костромская обл.       4553           3329       67   \n",
       "2  02.09.2021   Ямало-Ненецкий АО      47772          45810      625   \n",
       "3  15.12.2020    Сахалинская обл.      13406          10292       11   \n",
       "4  21.09.2020  Волгоградская обл.      14158          12376      131   \n",
       "\n",
       "   Смертей за день  Заражений за день  Выздоровлений за день  \n",
       "0                1                 62                     92  \n",
       "1                5                 54                     44  \n",
       "2                4                102                    121  \n",
       "3                0                142                    366  \n",
       "4                0                 95                     13  "
      ]
     },
     "execution_count": 10,
     "metadata": {},
     "output_type": "execute_result"
    }
   ],
   "source": [
    "# Выводим на экран первые 5 элементов таблицы.\n",
    "Koronastat.head()"
   ]
  },
  {
   "cell_type": "code",
   "execution_count": 11,
   "id": "7d560962",
   "metadata": {},
   "outputs": [],
   "source": [
    "# С помощью pandas изменим текст \"Дата\" на объект даты.\n",
    "Koronastat[\"Дата\"] = pd.to_datetime(Koronastat[\"Дата\"], format=\"%d.%m.%Y\")\n",
    "# Удалим из даты время.\n",
    "Koronastat[\"Дата\"] = Koronastat[\"Дата\"].dt.date\n",
    "# Определим самую последнюю дату.\n",
    "most_recent_date = Koronastat[\"Дата\"].max()"
   ]
  },
  {
   "cell_type": "code",
   "execution_count": 12,
   "id": "eb87795f",
   "metadata": {},
   "outputs": [],
   "source": [
    "# Сохраним в отдельные переменные выборки, которые собираемся тестировать.\n",
    "Moscow_set = Koronastat[Koronastat[\"Регион\"] == \"Москва\"]\n",
    "Sankt_Petersburg_set = Koronastat[Koronastat[\"Регион\"] == \"Санкт-Петербург\"]"
   ]
  },
  {
   "cell_type": "code",
   "execution_count": 13,
   "id": "99dc5c29",
   "metadata": {},
   "outputs": [
    {
     "data": {
      "text/html": [
       "<div>\n",
       "<style scoped>\n",
       "    .dataframe tbody tr th:only-of-type {\n",
       "        vertical-align: middle;\n",
       "    }\n",
       "\n",
       "    .dataframe tbody tr th {\n",
       "        vertical-align: top;\n",
       "    }\n",
       "\n",
       "    .dataframe thead th {\n",
       "        text-align: right;\n",
       "    }\n",
       "</style>\n",
       "<table border=\"1\" class=\"dataframe\">\n",
       "  <thead>\n",
       "    <tr style=\"text-align: right;\">\n",
       "      <th></th>\n",
       "      <th>Дата</th>\n",
       "      <th>Регион</th>\n",
       "      <th>Заражений</th>\n",
       "      <th>Выздоровлений</th>\n",
       "      <th>Смертей</th>\n",
       "      <th>Смертей за день</th>\n",
       "      <th>Заражений за день</th>\n",
       "      <th>Выздоровлений за день</th>\n",
       "    </tr>\n",
       "  </thead>\n",
       "  <tbody>\n",
       "    <tr>\n",
       "      <th>100</th>\n",
       "      <td>2020-06-21</td>\n",
       "      <td>Москва</td>\n",
       "      <td>213946</td>\n",
       "      <td>135556</td>\n",
       "      <td>3597</td>\n",
       "      <td>32</td>\n",
       "      <td>968</td>\n",
       "      <td>1007</td>\n",
       "    </tr>\n",
       "    <tr>\n",
       "      <th>160</th>\n",
       "      <td>2021-08-18</td>\n",
       "      <td>Москва</td>\n",
       "      <td>1547244</td>\n",
       "      <td>1417825</td>\n",
       "      <td>26766</td>\n",
       "      <td>59</td>\n",
       "      <td>1590</td>\n",
       "      <td>3029</td>\n",
       "    </tr>\n",
       "    <tr>\n",
       "      <th>224</th>\n",
       "      <td>2020-04-11</td>\n",
       "      <td>Москва</td>\n",
       "      <td>8852</td>\n",
       "      <td>499</td>\n",
       "      <td>58</td>\n",
       "      <td>8</td>\n",
       "      <td>1030</td>\n",
       "      <td>149</td>\n",
       "    </tr>\n",
       "    <tr>\n",
       "      <th>272</th>\n",
       "      <td>2020-11-04</td>\n",
       "      <td>Москва</td>\n",
       "      <td>445181</td>\n",
       "      <td>325531</td>\n",
       "      <td>7004</td>\n",
       "      <td>68</td>\n",
       "      <td>5826</td>\n",
       "      <td>3852</td>\n",
       "    </tr>\n",
       "    <tr>\n",
       "      <th>367</th>\n",
       "      <td>2021-04-04</td>\n",
       "      <td>Москва</td>\n",
       "      <td>1034567</td>\n",
       "      <td>949843</td>\n",
       "      <td>16872</td>\n",
       "      <td>56</td>\n",
       "      <td>1901</td>\n",
       "      <td>998</td>\n",
       "    </tr>\n",
       "    <tr>\n",
       "      <th>...</th>\n",
       "      <td>...</td>\n",
       "      <td>...</td>\n",
       "      <td>...</td>\n",
       "      <td>...</td>\n",
       "      <td>...</td>\n",
       "      <td>...</td>\n",
       "      <td>...</td>\n",
       "      <td>...</td>\n",
       "    </tr>\n",
       "    <tr>\n",
       "      <th>50318</th>\n",
       "      <td>2020-04-19</td>\n",
       "      <td>Москва</td>\n",
       "      <td>24324</td>\n",
       "      <td>1763</td>\n",
       "      <td>176</td>\n",
       "      <td>28</td>\n",
       "      <td>3570</td>\n",
       "      <td>84</td>\n",
       "    </tr>\n",
       "    <tr>\n",
       "      <th>50372</th>\n",
       "      <td>2021-02-16</td>\n",
       "      <td>Москва</td>\n",
       "      <td>959405</td>\n",
       "      <td>873898</td>\n",
       "      <td>14464</td>\n",
       "      <td>60</td>\n",
       "      <td>1409</td>\n",
       "      <td>2062</td>\n",
       "    </tr>\n",
       "    <tr>\n",
       "      <th>50525</th>\n",
       "      <td>2021-05-30</td>\n",
       "      <td>Москва</td>\n",
       "      <td>1177356</td>\n",
       "      <td>1060588</td>\n",
       "      <td>20060</td>\n",
       "      <td>59</td>\n",
       "      <td>3719</td>\n",
       "      <td>2547</td>\n",
       "    </tr>\n",
       "    <tr>\n",
       "      <th>50604</th>\n",
       "      <td>2020-10-19</td>\n",
       "      <td>Москва</td>\n",
       "      <td>367629</td>\n",
       "      <td>275648</td>\n",
       "      <td>6009</td>\n",
       "      <td>51</td>\n",
       "      <td>5376</td>\n",
       "      <td>1767</td>\n",
       "    </tr>\n",
       "    <tr>\n",
       "      <th>50694</th>\n",
       "      <td>2021-09-27</td>\n",
       "      <td>Москва</td>\n",
       "      <td>1624377</td>\n",
       "      <td>1483976</td>\n",
       "      <td>28790</td>\n",
       "      <td>61</td>\n",
       "      <td>3387</td>\n",
       "      <td>1560</td>\n",
       "    </tr>\n",
       "  </tbody>\n",
       "</table>\n",
       "<p>597 rows × 8 columns</p>\n",
       "</div>"
      ],
      "text/plain": [
       "             Дата  Регион  Заражений  Выздоровлений  Смертей  Смертей за день  \\\n",
       "100    2020-06-21  Москва     213946         135556     3597               32   \n",
       "160    2021-08-18  Москва    1547244        1417825    26766               59   \n",
       "224    2020-04-11  Москва       8852            499       58                8   \n",
       "272    2020-11-04  Москва     445181         325531     7004               68   \n",
       "367    2021-04-04  Москва    1034567         949843    16872               56   \n",
       "...           ...     ...        ...            ...      ...              ...   \n",
       "50318  2020-04-19  Москва      24324           1763      176               28   \n",
       "50372  2021-02-16  Москва     959405         873898    14464               60   \n",
       "50525  2021-05-30  Москва    1177356        1060588    20060               59   \n",
       "50604  2020-10-19  Москва     367629         275648     6009               51   \n",
       "50694  2021-09-27  Москва    1624377        1483976    28790               61   \n",
       "\n",
       "       Заражений за день  Выздоровлений за день  \n",
       "100                  968                   1007  \n",
       "160                 1590                   3029  \n",
       "224                 1030                    149  \n",
       "272                 5826                   3852  \n",
       "367                 1901                    998  \n",
       "...                  ...                    ...  \n",
       "50318               3570                     84  \n",
       "50372               1409                   2062  \n",
       "50525               3719                   2547  \n",
       "50604               5376                   1767  \n",
       "50694               3387                   1560  \n",
       "\n",
       "[597 rows x 8 columns]"
      ]
     },
     "execution_count": 13,
     "metadata": {},
     "output_type": "execute_result"
    }
   ],
   "source": [
    "Moscow_set"
   ]
  },
  {
   "cell_type": "code",
   "execution_count": 7,
   "id": "f6c30797",
   "metadata": {},
   "outputs": [],
   "source": [
    "# Сохраним в отдельные переменные информацию, за последние сутки.\n",
    "Moscow_set_last_day = Moscow_set[Moscow_set[\"Дата\"] == most_recent_date]\n",
    "Sankt_Petersburg_set_last_day = Sankt_Petersburg_set[Sankt_Petersburg_set[\"Дата\"] == most_recent_date]"
   ]
  },
  {
   "cell_type": "code",
   "execution_count": 8,
   "id": "b72b6023",
   "metadata": {},
   "outputs": [
    {
     "data": {
      "text/html": [
       "<div>\n",
       "<style scoped>\n",
       "    .dataframe tbody tr th:only-of-type {\n",
       "        vertical-align: middle;\n",
       "    }\n",
       "\n",
       "    .dataframe tbody tr th {\n",
       "        vertical-align: top;\n",
       "    }\n",
       "\n",
       "    .dataframe thead th {\n",
       "        text-align: right;\n",
       "    }\n",
       "</style>\n",
       "<table border=\"1\" class=\"dataframe\">\n",
       "  <thead>\n",
       "    <tr style=\"text-align: right;\">\n",
       "      <th></th>\n",
       "      <th>Дата</th>\n",
       "      <th>Регион</th>\n",
       "      <th>Заражений</th>\n",
       "      <th>Выздоровлений</th>\n",
       "      <th>Смертей</th>\n",
       "      <th>Смертей за день</th>\n",
       "      <th>Заражений за день</th>\n",
       "      <th>Выздоровлений за день</th>\n",
       "    </tr>\n",
       "  </thead>\n",
       "  <tbody>\n",
       "    <tr>\n",
       "      <th>13900</th>\n",
       "      <td>2021-10-29</td>\n",
       "      <td>Москва</td>\n",
       "      <td>1802521</td>\n",
       "      <td>1583191</td>\n",
       "      <td>31151</td>\n",
       "      <td>93</td>\n",
       "      <td>7511</td>\n",
       "      <td>5134</td>\n",
       "    </tr>\n",
       "  </tbody>\n",
       "</table>\n",
       "</div>"
      ],
      "text/plain": [
       "             Дата  Регион  Заражений  Выздоровлений  Смертей  Смертей за день  \\\n",
       "13900  2021-10-29  Москва    1802521        1583191    31151               93   \n",
       "\n",
       "       Заражений за день  Выздоровлений за день  \n",
       "13900               7511                   5134  "
      ]
     },
     "execution_count": 8,
     "metadata": {},
     "output_type": "execute_result"
    }
   ],
   "source": [
    "# Выведем информацию по Covid-19 за последние сутки в Москве\n",
    "Moscow_set_last_day"
   ]
  },
  {
   "cell_type": "code",
   "execution_count": 9,
   "id": "7c1d6c5e",
   "metadata": {},
   "outputs": [
    {
     "data": {
      "text/html": [
       "<div>\n",
       "<style scoped>\n",
       "    .dataframe tbody tr th:only-of-type {\n",
       "        vertical-align: middle;\n",
       "    }\n",
       "\n",
       "    .dataframe tbody tr th {\n",
       "        vertical-align: top;\n",
       "    }\n",
       "\n",
       "    .dataframe thead th {\n",
       "        text-align: right;\n",
       "    }\n",
       "</style>\n",
       "<table border=\"1\" class=\"dataframe\">\n",
       "  <thead>\n",
       "    <tr style=\"text-align: right;\">\n",
       "      <th></th>\n",
       "      <th>Дата</th>\n",
       "      <th>Регион</th>\n",
       "      <th>Заражений</th>\n",
       "      <th>Выздоровлений</th>\n",
       "      <th>Смертей</th>\n",
       "      <th>Смертей за день</th>\n",
       "      <th>Заражений за день</th>\n",
       "      <th>Выздоровлений за день</th>\n",
       "    </tr>\n",
       "  </thead>\n",
       "  <tbody>\n",
       "    <tr>\n",
       "      <th>43779</th>\n",
       "      <td>2021-10-29</td>\n",
       "      <td>Санкт-Петербург</td>\n",
       "      <td>701379</td>\n",
       "      <td>638284</td>\n",
       "      <td>23722</td>\n",
       "      <td>76</td>\n",
       "      <td>3452</td>\n",
       "      <td>3417</td>\n",
       "    </tr>\n",
       "  </tbody>\n",
       "</table>\n",
       "</div>"
      ],
      "text/plain": [
       "             Дата           Регион  Заражений  Выздоровлений  Смертей  \\\n",
       "43779  2021-10-29  Санкт-Петербург     701379         638284    23722   \n",
       "\n",
       "       Смертей за день  Заражений за день  Выздоровлений за день  \n",
       "43779               76               3452                   3417  "
      ]
     },
     "execution_count": 9,
     "metadata": {},
     "output_type": "execute_result"
    }
   ],
   "source": [
    "# Выведем информацию по Covid-19 за последние сутки в Санкт-Петербурге\n",
    "Sankt_Petersburg_set_last_day"
   ]
  },
  {
   "cell_type": "code",
   "execution_count": 10,
   "id": "8b91c746",
   "metadata": {},
   "outputs": [],
   "source": [
    "# Сохраним набор количества испытаний/наблюдений по числу заражений за день в Москве и Санкт-Петербурге\n",
    "number_of_infections = np.array([Moscow_set_last_day[\"Заражений за день\"], Sankt_Petersburg_set_last_day[\"Заражений за день\"]])\n",
    "# Сохраним набор количества успехов в испытаниях (число смертей за день в Москве и Санкт-Петербурге)\n",
    "number_of_deaths = np.array([Moscow_set_last_day[\"Смертей за день\"], Sankt_Petersburg_set_last_day[\"Смертей за день\"]])\n",
    "# Сохраним набор количества успехов в испытаниях (число выздоровлений за день в Москве и Санкт-Петербурге)\n",
    "number_of_recoveries = np.array([Moscow_set_last_day[\"Выздоровлений за день\"], Sankt_Petersburg_set_last_day[\"Выздоровлений за день\"]])"
   ]
  },
  {
   "cell_type": "code",
   "execution_count": 11,
   "id": "af025819",
   "metadata": {},
   "outputs": [
    {
     "name": "stdout",
     "output_type": "stream",
     "text": [
      "['-3.803104924579', '0.000142893798']\n"
     ]
    }
   ],
   "source": [
    "# Найдём и выведем значение z-метки и p-value.\n",
    "z_mark, p_value = sm.stats.proportions_ztest(number_of_deaths, number_of_infections)\n",
    "print(['{:.12f}'.format(i.item()) for i in (z_mark, p_value)])"
   ]
  },
  {
   "cell_type": "code",
   "execution_count": 12,
   "id": "cde3faf4",
   "metadata": {},
   "outputs": [
    {
     "name": "stdout",
     "output_type": "stream",
     "text": [
      "['-35.961813961808', '0.000000000000']\n"
     ]
    }
   ],
   "source": [
    "# Найдём и выведем значение z-метки и p-value.\n",
    "z_mark, p_value = sm.stats.proportions_ztest(number_of_recoveries, number_of_infections)\n",
    "print(['{:.12f}'.format(i.item()) for i in (z_mark, p_value)])"
   ]
  },
  {
   "cell_type": "markdown",
   "id": "b1c96207",
   "metadata": {},
   "source": [
    "Значение p-value, у нас значительно меньше, чем уровень значимости альфа = 0.05, а значит, что нулевую гипотезу опровергаем, значит доли статистически значимо различаются"
   ]
  },
  {
   "cell_type": "code",
   "execution_count": 13,
   "id": "1045aa77",
   "metadata": {},
   "outputs": [
    {
     "name": "stdout",
     "output_type": "stream",
     "text": [
      "['0.300343369043', '0.763915255579']\n",
      "['0.126396037547', '0.899418438578']\n"
     ]
    }
   ],
   "source": [
    "Kaliningrad_set = Koronastat[Koronastat[\"Регион\"] == \"Калининградская обл.\"]\n",
    "Kaliningrad_set_last_day = Kaliningrad_set[Kaliningrad_set[\"Дата\"] == most_recent_date]\n",
    "\n",
    "Chukotka_set = Koronastat[Koronastat[\"Регион\"] == \"Чукотский АО\"]\n",
    "Chukotka_set_last_day = Chukotka_set[Chukotka_set[\"Дата\"] == most_recent_date]\n",
    "\n",
    "number_of_infections = np.array([Kaliningrad_set_last_day[\"Заражений за день\"], Chukotka_set_last_day[\"Заражений за день\"]])\n",
    "number_of_deaths = np.array([Kaliningrad_set_last_day[\"Смертей за день\"], Chukotka_set_last_day[\"Смертей за день\"]])\n",
    "number_of_recoveries = np.array([Kaliningrad_set_last_day[\"Выздоровлений за день\"], Chukotka_set_last_day[\"Выздоровлений за день\"]])\n",
    "\n",
    "# Найдём и выведем значение z-метки и p-value.\n",
    "z_mark, p_value = sm.stats.proportions_ztest(number_of_deaths, number_of_infections)\n",
    "print(['{:.12f}'.format(i.item()) for i in (z_mark, p_value)])\n",
    "\n",
    "# Найдём и выведем значение z-метки и p-value.\n",
    "z_mark, p_value = sm.stats.proportions_ztest(number_of_recoveries, number_of_infections)\n",
    "print(['{:.12f}'.format(i.item()) for i in (z_mark, p_value)])"
   ]
  },
  {
   "cell_type": "markdown",
   "id": "af11f980",
   "metadata": {},
   "source": [
    "Значение p-value, у нас больше, чем уровень значимости альфа = 0.05, а значит, что нулевую гипотезу не опровергаем, значит доли статистически не значимо различаются"
   ]
  },
  {
   "cell_type": "code",
   "execution_count": 14,
   "id": "df4c08a0",
   "metadata": {},
   "outputs": [
    {
     "data": {
      "text/html": [
       "<div>\n",
       "<style scoped>\n",
       "    .dataframe tbody tr th:only-of-type {\n",
       "        vertical-align: middle;\n",
       "    }\n",
       "\n",
       "    .dataframe tbody tr th {\n",
       "        vertical-align: top;\n",
       "    }\n",
       "\n",
       "    .dataframe thead th {\n",
       "        text-align: right;\n",
       "    }\n",
       "</style>\n",
       "<table border=\"1\" class=\"dataframe\">\n",
       "  <thead>\n",
       "    <tr style=\"text-align: right;\">\n",
       "      <th></th>\n",
       "      <th>Дата</th>\n",
       "      <th>Регион</th>\n",
       "      <th>Заражений</th>\n",
       "      <th>Выздоровлений</th>\n",
       "      <th>Смертей</th>\n",
       "      <th>Смертей за день</th>\n",
       "      <th>Заражений за день</th>\n",
       "      <th>Выздоровлений за день</th>\n",
       "    </tr>\n",
       "  </thead>\n",
       "  <tbody>\n",
       "    <tr>\n",
       "      <th>31959</th>\n",
       "      <td>2021-10-29</td>\n",
       "      <td>Калининградская обл.</td>\n",
       "      <td>63842</td>\n",
       "      <td>55722</td>\n",
       "      <td>854</td>\n",
       "      <td>2</td>\n",
       "      <td>401</td>\n",
       "      <td>295</td>\n",
       "    </tr>\n",
       "  </tbody>\n",
       "</table>\n",
       "</div>"
      ],
      "text/plain": [
       "             Дата                Регион  Заражений  Выздоровлений  Смертей  \\\n",
       "31959  2021-10-29  Калининградская обл.      63842          55722      854   \n",
       "\n",
       "       Смертей за день  Заражений за день  Выздоровлений за день  \n",
       "31959                2                401                    295  "
      ]
     },
     "execution_count": 14,
     "metadata": {},
     "output_type": "execute_result"
    }
   ],
   "source": [
    "# Выведем информацию по Covid-19 за последние сутки в Калининградской обл.\n",
    "Kaliningrad_set_last_day"
   ]
  },
  {
   "cell_type": "code",
   "execution_count": 15,
   "id": "e1b44cbe",
   "metadata": {},
   "outputs": [
    {
     "data": {
      "text/html": [
       "<div>\n",
       "<style scoped>\n",
       "    .dataframe tbody tr th:only-of-type {\n",
       "        vertical-align: middle;\n",
       "    }\n",
       "\n",
       "    .dataframe tbody tr th {\n",
       "        vertical-align: top;\n",
       "    }\n",
       "\n",
       "    .dataframe thead th {\n",
       "        text-align: right;\n",
       "    }\n",
       "</style>\n",
       "<table border=\"1\" class=\"dataframe\">\n",
       "  <thead>\n",
       "    <tr style=\"text-align: right;\">\n",
       "      <th></th>\n",
       "      <th>Дата</th>\n",
       "      <th>Регион</th>\n",
       "      <th>Заражений</th>\n",
       "      <th>Выздоровлений</th>\n",
       "      <th>Смертей</th>\n",
       "      <th>Смертей за день</th>\n",
       "      <th>Заражений за день</th>\n",
       "      <th>Выздоровлений за день</th>\n",
       "    </tr>\n",
       "  </thead>\n",
       "  <tbody>\n",
       "    <tr>\n",
       "      <th>36545</th>\n",
       "      <td>2021-10-29</td>\n",
       "      <td>Чукотский АО</td>\n",
       "      <td>2335</td>\n",
       "      <td>1827</td>\n",
       "      <td>20</td>\n",
       "      <td>0</td>\n",
       "      <td>18</td>\n",
       "      <td>13</td>\n",
       "    </tr>\n",
       "  </tbody>\n",
       "</table>\n",
       "</div>"
      ],
      "text/plain": [
       "             Дата        Регион  Заражений  Выздоровлений  Смертей  \\\n",
       "36545  2021-10-29  Чукотский АО       2335           1827       20   \n",
       "\n",
       "       Смертей за день  Заражений за день  Выздоровлений за день  \n",
       "36545                0                 18                     13  "
      ]
     },
     "execution_count": 15,
     "metadata": {},
     "output_type": "execute_result"
    }
   ],
   "source": [
    "# Выведем информацию по Covid-19 за последние сутки в Чукотской АО\n",
    "Chukotka_set_last_day"
   ]
  }
 ],
 "metadata": {
  "kernelspec": {
   "display_name": "Python 3 (ipykernel)",
   "language": "python",
   "name": "python3"
  },
  "language_info": {
   "codemirror_mode": {
    "name": "ipython",
    "version": 3
   },
   "file_extension": ".py",
   "mimetype": "text/x-python",
   "name": "python",
   "nbconvert_exporter": "python",
   "pygments_lexer": "ipython3",
   "version": "3.8.8"
  }
 },
 "nbformat": 4,
 "nbformat_minor": 5
}
